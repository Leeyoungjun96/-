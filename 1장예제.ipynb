{
 "cells": [
  {
   "cell_type": "markdown",
   "id": "08ec42a1",
   "metadata": {},
   "source": [
    "## 데이터 프레임, 기초중의 기초"
   ]
  },
  {
   "cell_type": "code",
   "execution_count": 6,
   "id": "ee46419a",
   "metadata": {},
   "outputs": [
    {
     "data": {
      "text/html": [
       "<div>\n",
       "<style scoped>\n",
       "    .dataframe tbody tr th:only-of-type {\n",
       "        vertical-align: middle;\n",
       "    }\n",
       "\n",
       "    .dataframe tbody tr th {\n",
       "        vertical-align: top;\n",
       "    }\n",
       "\n",
       "    .dataframe thead th {\n",
       "        text-align: right;\n",
       "    }\n",
       "</style>\n",
       "<table border=\"1\" class=\"dataframe\">\n",
       "  <thead>\n",
       "    <tr style=\"text-align: right;\">\n",
       "      <th></th>\n",
       "      <th>0</th>\n",
       "      <th>1</th>\n",
       "      <th>2</th>\n",
       "    </tr>\n",
       "  </thead>\n",
       "  <tbody>\n",
       "    <tr>\n",
       "      <th>0</th>\n",
       "      <td>2017-01-01</td>\n",
       "      <td>x</td>\n",
       "      <td>1</td>\n",
       "    </tr>\n",
       "    <tr>\n",
       "      <th>1</th>\n",
       "      <td>2017-01-02</td>\n",
       "      <td>y</td>\n",
       "      <td>2</td>\n",
       "    </tr>\n",
       "  </tbody>\n",
       "</table>\n",
       "</div>"
      ],
      "text/plain": [
       "            0  1  2\n",
       "0  2017-01-01  x  1\n",
       "1  2017-01-02  y  2"
      ]
     },
     "execution_count": 6,
     "metadata": {},
     "output_type": "execute_result"
    }
   ],
   "source": [
    "import pandas as pd\n",
    "pd.DataFrame([['2017-01-01', 'x', 1], ['2017-01-02', 'y', 2]])"
   ]
  },
  {
   "cell_type": "markdown",
   "id": "1c7c3116",
   "metadata": {},
   "source": [
    "### 웹 서버의 액세스 로그의 예 : pandas의 데이터 프레임으로 간단히 처리"
   ]
  },
  {
   "cell_type": "markdown",
   "id": "f4be25f3",
   "metadata": {},
   "source": [
    "웹 서버의 엑세스 로그를 생각하면, 액세스 로그는 데이터 웨어하우스와 BI 도구에서 그대로 읽어 들일 수 없다. 따라서 이러한 데이터들은 정규식을 사용해서 파싱한다."
   ]
  },
  {
   "cell_type": "code",
   "execution_count": 10,
   "id": "dfdf01f1",
   "metadata": {},
   "outputs": [
    {
     "ename": "OSError",
     "evalue": "[Errno 22] Invalid argument: 'https://ita.ee.lbl.gov/html/contrib/NASA-HTTP.html'",
     "output_type": "error",
     "traceback": [
      "\u001b[1;31m---------------------------------------------------------------------------\u001b[0m",
      "\u001b[1;31mOSError\u001b[0m                                   Traceback (most recent call last)",
      "Input \u001b[1;32mIn [10]\u001b[0m, in \u001b[0;36m<cell line: 16>\u001b[1;34m()\u001b[0m\n\u001b[0;32m     14\u001b[0m \u001b[38;5;66;03m# 로그 파일을 읽어서 데이터 프레임으로 변환\u001b[39;00m\n\u001b[0;32m     15\u001b[0m columns \u001b[38;5;241m=\u001b[39m [\u001b[38;5;124m'\u001b[39m\u001b[38;5;124mtime\u001b[39m\u001b[38;5;124m'\u001b[39m, \u001b[38;5;124m'\u001b[39m\u001b[38;5;124mrequest\u001b[39m\u001b[38;5;124m'\u001b[39m, \u001b[38;5;124m'\u001b[39m\u001b[38;5;124mstatus\u001b[39m\u001b[38;5;124m'\u001b[39m, \u001b[38;5;124m'\u001b[39m\u001b[38;5;124mbytes\u001b[39m\u001b[38;5;124m'\u001b[39m]\n\u001b[1;32m---> 16\u001b[0m \u001b[43mpd\u001b[49m\u001b[38;5;241;43m.\u001b[39;49m\u001b[43mDataFrame\u001b[49m\u001b[43m(\u001b[49m\u001b[43mparse_access_log\u001b[49m\u001b[43m(\u001b[49m\u001b[43msample\u001b[49m\u001b[43m)\u001b[49m\u001b[43m,\u001b[49m\u001b[43m \u001b[49m\u001b[43mcolumns\u001b[49m\u001b[38;5;241;43m=\u001b[39;49m\u001b[43mcolumns\u001b[49m\u001b[43m)\u001b[49m\n",
      "File \u001b[1;32m~\\anaconda3\\lib\\site-packages\\pandas\\core\\frame.py:710\u001b[0m, in \u001b[0;36mDataFrame.__init__\u001b[1;34m(self, data, index, columns, dtype, copy)\u001b[0m\n\u001b[0;32m    708\u001b[0m         data \u001b[38;5;241m=\u001b[39m np\u001b[38;5;241m.\u001b[39masarray(data)\n\u001b[0;32m    709\u001b[0m     \u001b[38;5;28;01melse\u001b[39;00m:\n\u001b[1;32m--> 710\u001b[0m         data \u001b[38;5;241m=\u001b[39m \u001b[38;5;28;43mlist\u001b[39;49m\u001b[43m(\u001b[49m\u001b[43mdata\u001b[49m\u001b[43m)\u001b[49m\n\u001b[0;32m    711\u001b[0m \u001b[38;5;28;01mif\u001b[39;00m \u001b[38;5;28mlen\u001b[39m(data) \u001b[38;5;241m>\u001b[39m \u001b[38;5;241m0\u001b[39m:\n\u001b[0;32m    712\u001b[0m     \u001b[38;5;28;01mif\u001b[39;00m is_dataclass(data[\u001b[38;5;241m0\u001b[39m]):\n",
      "Input \u001b[1;32mIn [10]\u001b[0m, in \u001b[0;36mparse_access_log\u001b[1;34m(path)\u001b[0m\n\u001b[0;32m      9\u001b[0m \u001b[38;5;28;01mdef\u001b[39;00m \u001b[38;5;21mparse_access_log\u001b[39m(path):\n\u001b[1;32m---> 10\u001b[0m     \u001b[38;5;28;01mfor\u001b[39;00m line \u001b[38;5;129;01min\u001b[39;00m \u001b[38;5;28;43mopen\u001b[39;49m\u001b[43m(\u001b[49m\u001b[43mpath\u001b[49m\u001b[43m)\u001b[49m:\n\u001b[0;32m     11\u001b[0m         \u001b[38;5;28;01mfor\u001b[39;00m m \u001b[38;5;129;01min\u001b[39;00m pattern\u001b[38;5;241m.\u001b[39mfinditer(line):\n\u001b[0;32m     12\u001b[0m             \u001b[38;5;28;01myield\u001b[39;00m m\u001b[38;5;241m.\u001b[39mgroups()\n",
      "\u001b[1;31mOSError\u001b[0m: [Errno 22] Invalid argument: 'https://ita.ee.lbl.gov/html/contrib/NASA-HTTP.html'"
     ]
    }
   ],
   "source": [
    "import re #정규식 연산\n",
    "import pandas as pd\n",
    "\n",
    "# 로그의 각 행에 매치하는 정규 표현\n",
    "pattern = re.compile('^\\S+ \\S+ \\S+ \\[(.*)\\] \"(.*)\" (\\S+) (\\S+)$')\n",
    "\n",
    "# 정규 표현으로 파싱하는 함수(일치하지 않는 행은 그냥 버린다)\n",
    "def parse_access_log(path):\n",
    "    for line in open(path):\n",
    "        for m in pattern.finditer(line):\n",
    "            yield m.groups()\n",
    "            \n",
    "# 로그 파일을 읽어서 데이터 프레임으로 변환\n",
    "columns = ['time', 'request', 'status', 'bytes']\n",
    "pd.DataFrame(parse_access_log('access.log'), columns=columns)"
   ]
  },
  {
   "cell_type": "code",
   "execution_count": null,
   "id": "5958eacd",
   "metadata": {},
   "outputs": [],
   "source": []
  }
 ],
 "metadata": {
  "kernelspec": {
   "display_name": "Python 3 (ipykernel)",
   "language": "python",
   "name": "python3"
  },
  "language_info": {
   "codemirror_mode": {
    "name": "ipython",
    "version": 3
   },
   "file_extension": ".py",
   "mimetype": "text/x-python",
   "name": "python",
   "nbconvert_exporter": "python",
   "pygments_lexer": "ipython3",
   "version": "3.9.12"
  }
 },
 "nbformat": 4,
 "nbformat_minor": 5
}
